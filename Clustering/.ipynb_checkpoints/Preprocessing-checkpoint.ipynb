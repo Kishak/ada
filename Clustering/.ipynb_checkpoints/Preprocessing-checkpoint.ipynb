{
 "cells": [
  {
   "cell_type": "code",
   "execution_count": 1,
   "metadata": {
    "collapsed": true
   },
   "outputs": [],
   "source": [
    "%matplotlib inline\n",
    "from IPython.display import clear_output\n",
    "\n",
    "import numpy as np\n",
    "import matplotlib.pyplot as plt\n",
    "import os\n",
    "from scipy import stats"
   ]
  },
  {
   "cell_type": "code",
   "execution_count": 2,
   "metadata": {
    "collapsed": false
   },
   "outputs": [],
   "source": [
    "root = \"/home/melchior/extended/P5-Clustering/GygiAnalysis\";\n",
    "\n",
    "path = os.path.join(root, \"AnalysisOfGygiDataset.npz\");\n",
    "dataset = np.load(path); \n",
    "dataset = dataset['arr_0'].item()\n",
    "\n",
    "labels = dataset['labels'];"
   ]
  },
  {
   "cell_type": "code",
   "execution_count": 4,
   "metadata": {
    "collapsed": false
   },
   "outputs": [
    {
     "name": "stdout",
     "output_type": "stream",
     "text": [
      "done...\n"
     ]
    }
   ],
   "source": [
    "# Data Pre Processing (Gather and flatten Ts and Tf raw data)\n",
    "Ts_raw_data = [];\n",
    "Tf_raw_data = [];\n",
    "\n",
    "for label in labels:\n",
    "    print \"Processing {0} \".format(label);\n",
    "    path = os.path.join(root, label, 'rawFeatures.npz');\n",
    "    raw = np.load(path);\n",
    "    raw = raw['arr_0'].item();\n",
    "    \n",
    "    Ts_raw_data.append(raw['Ts'].flatten());\n",
    "    Tf_raw_data.append(raw['Tf'].flatten());\n",
    "\n",
    "clear_output()\n",
    "print 'done...'"
   ]
  },
  {
   "cell_type": "code",
   "execution_count": 7,
   "metadata": {
    "collapsed": false
   },
   "outputs": [],
   "source": [
    "# Compute Distance Matrix using Kolmogorov-Smirnov method\n",
    "def make_distance_matrix(raw_data):\n",
    "    N = len(labels);\n",
    "    distances = np.zeros((N,N));\n",
    "    \n",
    "    for row in xrange(0, N):\n",
    "        print \"Processing row: {0}\".format(row);\n",
    "        for col in xrange(0, 1+row):\n",
    "            if (col != row):            \n",
    "                distance = stats.ks_2samp(raw_data[row], raw_data[col])\n",
    "                distances[row, col] = distance[0];\n",
    "                distances[col, row] = distance[0];\n",
    "    \n",
    "    clear_output()\n",
    "    print 'done...'\n",
    "    return distances"
   ]
  },
  {
   "cell_type": "code",
   "execution_count": 8,
   "metadata": {
    "collapsed": false
   },
   "outputs": [
    {
     "name": "stdout",
     "output_type": "stream",
     "text": [
      "done...\n"
     ]
    }
   ],
   "source": [
    "Ts_distances = make_distance_matrix(Ts_raw_data)"
   ]
  },
  {
   "cell_type": "code",
   "execution_count": 18,
   "metadata": {
    "collapsed": false
   },
   "outputs": [],
   "source": [
    "np.save(\"Ts_distances.npy\", Ts_distances);"
   ]
  },
  {
   "cell_type": "code",
   "execution_count": 19,
   "metadata": {
    "collapsed": false
   },
   "outputs": [
    {
     "name": "stdout",
     "output_type": "stream",
     "text": [
      "done...\n"
     ]
    }
   ],
   "source": [
    "Tf_distances = make_distance_matrix(Tf_raw_data)"
   ]
  },
  {
   "cell_type": "code",
   "execution_count": 20,
   "metadata": {
    "collapsed": false
   },
   "outputs": [],
   "source": [
    "np.save(\"Tf_distances.npy\", Tf_distances);"
   ]
  },
  {
   "cell_type": "code",
   "execution_count": null,
   "metadata": {
    "collapsed": true
   },
   "outputs": [],
   "source": []
  }
 ],
 "metadata": {
  "kernelspec": {
   "display_name": "Python 2",
   "language": "python",
   "name": "python2"
  },
  "language_info": {
   "codemirror_mode": {
    "name": "ipython",
    "version": 2
   },
   "file_extension": ".py",
   "mimetype": "text/x-python",
   "name": "python",
   "nbconvert_exporter": "python",
   "pygments_lexer": "ipython2",
   "version": "2.7.10"
  }
 },
 "nbformat": 4,
 "nbformat_minor": 0
}
