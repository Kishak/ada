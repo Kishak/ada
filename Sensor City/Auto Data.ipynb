{
 "cells": [
  {
   "cell_type": "code",
   "execution_count": 51,
   "metadata": {
    "collapsed": false
   },
   "outputs": [],
   "source": [
    "from selenium import webdriver\n",
    "from selenium.webdriver.common.keys import Keys\n",
    "\n",
    "url = \"http://195.169.242.98:8080\"\n",
    "\n",
    "# todo: remove implicity_wait and wait for element\n",
    "\n",
    "driver = webdriver.Firefox()\n",
    "driver.get(url)\n",
    "name = driver.find_element_by_xpath(\"//input[@name='unnamed4'][@type='text']\")\n",
    "name.send_keys(\"Fill ME!\")\n",
    "\n",
    "pw = driver.find_element_by_xpath(\"//input[@name='unnamed4'][@type='password']\")\n",
    "pw.send_keys(\"Fill ME!\")\n",
    "\n",
    "driver.implicitly_wait(20)\n",
    "\n",
    "button = driver.find_element_by_class_name('with-label')\n",
    "button.click()"
   ]
  },
  {
   "cell_type": "code",
   "execution_count": 45,
   "metadata": {
    "collapsed": false
   },
   "outputs": [],
   "source": []
  },
  {
   "cell_type": "code",
   "execution_count": null,
   "metadata": {
    "collapsed": true
   },
   "outputs": [],
   "source": []
  }
 ],
 "metadata": {
  "kernelspec": {
   "display_name": "Python 2",
   "language": "python",
   "name": "python2"
  },
  "language_info": {
   "codemirror_mode": {
    "name": "ipython",
    "version": 2
   },
   "file_extension": ".py",
   "mimetype": "text/x-python",
   "name": "python",
   "nbconvert_exporter": "python",
   "pygments_lexer": "ipython2",
   "version": "2.7.10"
  }
 },
 "nbformat": 4,
 "nbformat_minor": 0
}
